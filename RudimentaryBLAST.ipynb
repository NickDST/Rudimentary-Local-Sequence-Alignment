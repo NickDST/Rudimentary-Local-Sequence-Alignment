{
  "nbformat": 4,
  "nbformat_minor": 0,
  "metadata": {
    "colab": {
      "name": "RudimentaryBLAST.ipynb",
      "version": "0.3.2",
      "provenance": [],
      "collapsed_sections": []
    },
    "kernelspec": {
      "name": "python3",
      "display_name": "Python 3"
    }
  },
  "cells": [
    {
      "cell_type": "markdown",
      "metadata": {
        "id": "AloJEE6Iwudh",
        "colab_type": "text"
      },
      "source": [
        "#Rudimentary Local Sequence Alignment Algorithm\n",
        "This is a simple algorithm based on the computational biology MIT OpenCourseWare Lecture for local alignment. \n",
        "<br>\n",
        "<br>\n",
        "<hr>\n",
        "Link to video lecture: https://www.youtube.com/watch?v=6Udqou3vmng"
      ]
    },
    {
      "cell_type": "code",
      "metadata": {
        "id": "S-3SRBu0bZy_",
        "colab_type": "code",
        "colab": {}
      },
      "source": [
        "#the main string to be queried through\n",
        "main_string = ['C', 'C', 'A', 'C', 'G', 'G', 'T', 'C', 'A', 'G', 'T']\n",
        "\n",
        "#the string being searched for\n",
        "query_string= ['A', 'C', 'C', 'C', 'G', 'G', 'T', 'T', 'T']"
      ],
      "execution_count": 0,
      "outputs": []
    },
    {
      "cell_type": "code",
      "metadata": {
        "id": "755ki-K5jrde",
        "colab_type": "code",
        "outputId": "f52364c4-e470-46fc-d1b6-0c54dbdcca3b",
        "colab": {
          "base_uri": "https://localhost:8080/",
          "height": 463
        }
      },
      "source": [
        "\n",
        "highest_score = 0\n",
        "\n",
        "culm_score = 0\n",
        "num_matches = 0\n",
        "\n",
        "local_min_score = 0\n",
        "global_min_score = 0\n",
        "\n",
        "start_index = 0\n",
        "end_index = 0\n",
        "\n",
        "graph_x = []\n",
        "graph_y = []\n",
        "\n",
        "for i in range(len(query_string)):\n",
        "    print(\"Values: \" + main_string[i] + query_string[i])\n",
        "\n",
        "\n",
        "    if(main_string[i] == query_string[i]):\n",
        "        print(\"Match!\")\n",
        "        num_matches += 1\n",
        "        culm_score += 1\n",
        "        local_min_score += 1\n",
        "    else:\n",
        "        local_min_score -= 1\n",
        "        culm_score -= 1\n",
        "\n",
        "    #tolerance can be tweaked at <= or just <\n",
        "    if(local_min_score < global_min_score):\n",
        "        global_min_score = local_min_score\n",
        "        start_index = i\n",
        "\n",
        "    if((culm_score - global_min_score) > highest_score):\n",
        "        highest_score = culm_score - global_min_score\n",
        "        end_index = i\n",
        "\n",
        "    graph_x.append(i)\n",
        "    graph_y.append(culm_score)\n",
        "\n",
        "    print(\"culm_score: \" + str(culm_score) + \" || global_min_score: \" + str(global_min_score) + \" || highest_score: \" + str(highest_score) + \" || start_index: \" + str(start_index) + \" || end_index: \" + str(end_index))\n",
        "\n",
        "\n",
        "print(\"best match: \" +  str(query_string[start_index:(end_index+1)]))\n",
        "# print(graph_x)\n",
        "# print(graph_y)\n",
        "    \n"
      ],
      "execution_count": 34,
      "outputs": [
        {
          "output_type": "stream",
          "text": [
            "Values: CA\n",
            "culm_score: -1 || global_min_score: -1 || highest_score: 0 || start_index: 0 || end_index: 0\n",
            "Values: CC\n",
            "Match!\n",
            "culm_score: 0 || global_min_score: -1 || highest_score: 1 || start_index: 0 || end_index: 1\n",
            "Values: AC\n",
            "culm_score: -1 || global_min_score: -1 || highest_score: 1 || start_index: 0 || end_index: 1\n",
            "Values: CC\n",
            "Match!\n",
            "culm_score: 0 || global_min_score: -1 || highest_score: 1 || start_index: 0 || end_index: 1\n",
            "Values: GG\n",
            "Match!\n",
            "culm_score: 1 || global_min_score: -1 || highest_score: 2 || start_index: 0 || end_index: 4\n",
            "Values: GG\n",
            "Match!\n",
            "culm_score: 2 || global_min_score: -1 || highest_score: 3 || start_index: 0 || end_index: 5\n",
            "Values: TT\n",
            "Match!\n",
            "culm_score: 3 || global_min_score: -1 || highest_score: 4 || start_index: 0 || end_index: 6\n",
            "Values: CT\n",
            "culm_score: 2 || global_min_score: -1 || highest_score: 4 || start_index: 0 || end_index: 6\n",
            "Values: AT\n",
            "culm_score: 1 || global_min_score: -1 || highest_score: 4 || start_index: 0 || end_index: 6\n",
            "best match: ['A', 'C', 'C', 'C', 'G', 'G', 'T']\n",
            "[0, 1, 2, 3, 4, 5, 6, 7, 8]\n",
            "[-1, 0, -1, 0, 1, 2, 3, 2, 1]\n"
          ],
          "name": "stdout"
        }
      ]
    },
    {
      "cell_type": "code",
      "metadata": {
        "id": "g1g_AEt3t0xN",
        "colab_type": "code",
        "colab": {
          "base_uri": "https://localhost:8080/",
          "height": 283
        },
        "outputId": "fb1418f8-7bec-48d4-85d1-46c0786cda1f"
      },
      "source": [
        "#Graphing the cumulated score and the index for Visual\n",
        "\n",
        "import matplotlib.pyplot as plt\n",
        "plt.plot(graph_x, graph_y)\n",
        "plt.ylabel('Cumulated Score')\n",
        "plt.xlabel('Index')\n",
        "\n",
        "\n",
        "plt.axhline(y=0, color='k')\n",
        "plt.axvline(x=0, color='k')\n",
        "plt.show()\n",
        "\n"
      ],
      "execution_count": 37,
      "outputs": [
        {
          "output_type": "display_data",
          "data": {
            "image/png": "[encoded data removed]",
            "text/plain": [
              "<Figure size 432x288 with 1 Axes>"
            ]
          },
          "metadata": {
            "tags": []
          }
        }
      ]
    }
  ]
}